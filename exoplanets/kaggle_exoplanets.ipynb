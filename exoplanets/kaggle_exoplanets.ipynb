{
 "cells": [
  {
   "cell_type": "code",
   "execution_count": 4,
   "metadata": {},
   "outputs": [],
   "source": [
    "import pandas as pd\n",
    "import matplotlib.pyplot as plt\n",
    "import numpy as np\n",
    "import seaborn as sns\n",
    "sns.set()"
   ]
  },
  {
   "cell_type": "code",
   "execution_count": 5,
   "metadata": {},
   "outputs": [],
   "source": [
    "from xgboost import XGBClassifier\n",
    "from sklearn.metrics import accuracy_score\n",
    "from sklearn.model_selection import train_test_split\n",
    "\n",
    "from sklearn.model_selection import GridSearchCV, RandomizedSearchCV, StratifiedKFold, cross_val_score"
   ]
  },
  {
   "cell_type": "code",
   "execution_count": 6,
   "metadata": {},
   "outputs": [],
   "source": [
    "from sklearn.metrics import confusion_matrix, classification_report, recall_score, roc_auc_score\n",
    "from sklearn.model_selection import train_test_split"
   ]
  },
  {
   "cell_type": "code",
   "execution_count": 7,
   "metadata": {},
   "outputs": [],
   "source": [
    "from imblearn.over_sampling import SMOTE, ADASYN\n",
    "from imblearn.ensemble import BalancedRandomForestClassifier, EasyEnsembleClassifier\n",
    "from sklearn.ensemble import RandomForestClassifier"
   ]
  },
  {
   "cell_type": "markdown",
   "metadata": {},
   "source": [
    "## Initial observations"
   ]
  },
  {
   "cell_type": "code",
   "execution_count": 8,
   "metadata": {},
   "outputs": [],
   "source": [
    "df = pd.read_csv('/home/padmac/kaggle/exoplanets/exoTrain.csv', nrows=400)"
   ]
  },
  {
   "cell_type": "code",
   "execution_count": 9,
   "metadata": {},
   "outputs": [
    {
     "data": {
      "text/html": [
       "<div>\n",
       "<style scoped>\n",
       "    .dataframe tbody tr th:only-of-type {\n",
       "        vertical-align: middle;\n",
       "    }\n",
       "\n",
       "    .dataframe tbody tr th {\n",
       "        vertical-align: top;\n",
       "    }\n",
       "\n",
       "    .dataframe thead th {\n",
       "        text-align: right;\n",
       "    }\n",
       "</style>\n",
       "<table border=\"1\" class=\"dataframe\">\n",
       "  <thead>\n",
       "    <tr style=\"text-align: right;\">\n",
       "      <th></th>\n",
       "      <th>LABEL</th>\n",
       "      <th>FLUX.1</th>\n",
       "      <th>FLUX.2</th>\n",
       "      <th>FLUX.3</th>\n",
       "      <th>FLUX.4</th>\n",
       "      <th>FLUX.5</th>\n",
       "      <th>FLUX.6</th>\n",
       "      <th>FLUX.7</th>\n",
       "      <th>FLUX.8</th>\n",
       "      <th>FLUX.9</th>\n",
       "      <th>...</th>\n",
       "      <th>FLUX.3188</th>\n",
       "      <th>FLUX.3189</th>\n",
       "      <th>FLUX.3190</th>\n",
       "      <th>FLUX.3191</th>\n",
       "      <th>FLUX.3192</th>\n",
       "      <th>FLUX.3193</th>\n",
       "      <th>FLUX.3194</th>\n",
       "      <th>FLUX.3195</th>\n",
       "      <th>FLUX.3196</th>\n",
       "      <th>FLUX.3197</th>\n",
       "    </tr>\n",
       "  </thead>\n",
       "  <tbody>\n",
       "    <tr>\n",
       "      <th>0</th>\n",
       "      <td>2</td>\n",
       "      <td>93.85</td>\n",
       "      <td>83.81</td>\n",
       "      <td>20.10</td>\n",
       "      <td>-26.98</td>\n",
       "      <td>-39.56</td>\n",
       "      <td>-124.71</td>\n",
       "      <td>-135.18</td>\n",
       "      <td>-96.27</td>\n",
       "      <td>-79.89</td>\n",
       "      <td>...</td>\n",
       "      <td>-78.07</td>\n",
       "      <td>-102.15</td>\n",
       "      <td>-102.15</td>\n",
       "      <td>25.13</td>\n",
       "      <td>48.57</td>\n",
       "      <td>92.54</td>\n",
       "      <td>39.32</td>\n",
       "      <td>61.42</td>\n",
       "      <td>5.08</td>\n",
       "      <td>-39.54</td>\n",
       "    </tr>\n",
       "    <tr>\n",
       "      <th>1</th>\n",
       "      <td>2</td>\n",
       "      <td>-38.88</td>\n",
       "      <td>-33.83</td>\n",
       "      <td>-58.54</td>\n",
       "      <td>-40.09</td>\n",
       "      <td>-79.31</td>\n",
       "      <td>-72.81</td>\n",
       "      <td>-86.55</td>\n",
       "      <td>-85.33</td>\n",
       "      <td>-83.97</td>\n",
       "      <td>...</td>\n",
       "      <td>-3.28</td>\n",
       "      <td>-32.21</td>\n",
       "      <td>-32.21</td>\n",
       "      <td>-24.89</td>\n",
       "      <td>-4.86</td>\n",
       "      <td>0.76</td>\n",
       "      <td>-11.70</td>\n",
       "      <td>6.46</td>\n",
       "      <td>16.00</td>\n",
       "      <td>19.93</td>\n",
       "    </tr>\n",
       "    <tr>\n",
       "      <th>2</th>\n",
       "      <td>2</td>\n",
       "      <td>532.64</td>\n",
       "      <td>535.92</td>\n",
       "      <td>513.73</td>\n",
       "      <td>496.92</td>\n",
       "      <td>456.45</td>\n",
       "      <td>466.00</td>\n",
       "      <td>464.50</td>\n",
       "      <td>486.39</td>\n",
       "      <td>436.56</td>\n",
       "      <td>...</td>\n",
       "      <td>-71.69</td>\n",
       "      <td>13.31</td>\n",
       "      <td>13.31</td>\n",
       "      <td>-29.89</td>\n",
       "      <td>-20.88</td>\n",
       "      <td>5.06</td>\n",
       "      <td>-11.80</td>\n",
       "      <td>-28.91</td>\n",
       "      <td>-70.02</td>\n",
       "      <td>-96.67</td>\n",
       "    </tr>\n",
       "    <tr>\n",
       "      <th>3</th>\n",
       "      <td>2</td>\n",
       "      <td>326.52</td>\n",
       "      <td>347.39</td>\n",
       "      <td>302.35</td>\n",
       "      <td>298.13</td>\n",
       "      <td>317.74</td>\n",
       "      <td>312.70</td>\n",
       "      <td>322.33</td>\n",
       "      <td>311.31</td>\n",
       "      <td>312.42</td>\n",
       "      <td>...</td>\n",
       "      <td>5.71</td>\n",
       "      <td>-3.73</td>\n",
       "      <td>-3.73</td>\n",
       "      <td>30.05</td>\n",
       "      <td>20.03</td>\n",
       "      <td>-12.67</td>\n",
       "      <td>-8.77</td>\n",
       "      <td>-17.31</td>\n",
       "      <td>-17.35</td>\n",
       "      <td>13.98</td>\n",
       "    </tr>\n",
       "    <tr>\n",
       "      <th>4</th>\n",
       "      <td>2</td>\n",
       "      <td>-1107.21</td>\n",
       "      <td>-1112.59</td>\n",
       "      <td>-1118.95</td>\n",
       "      <td>-1095.10</td>\n",
       "      <td>-1057.55</td>\n",
       "      <td>-1034.48</td>\n",
       "      <td>-998.34</td>\n",
       "      <td>-1022.71</td>\n",
       "      <td>-989.57</td>\n",
       "      <td>...</td>\n",
       "      <td>-594.37</td>\n",
       "      <td>-401.66</td>\n",
       "      <td>-401.66</td>\n",
       "      <td>-357.24</td>\n",
       "      <td>-443.76</td>\n",
       "      <td>-438.54</td>\n",
       "      <td>-399.71</td>\n",
       "      <td>-384.65</td>\n",
       "      <td>-411.79</td>\n",
       "      <td>-510.54</td>\n",
       "    </tr>\n",
       "  </tbody>\n",
       "</table>\n",
       "<p>5 rows × 3198 columns</p>\n",
       "</div>"
      ],
      "text/plain": [
       "   LABEL   FLUX.1   FLUX.2   FLUX.3   FLUX.4   FLUX.5   FLUX.6  FLUX.7  \\\n",
       "0      2    93.85    83.81    20.10   -26.98   -39.56  -124.71 -135.18   \n",
       "1      2   -38.88   -33.83   -58.54   -40.09   -79.31   -72.81  -86.55   \n",
       "2      2   532.64   535.92   513.73   496.92   456.45   466.00  464.50   \n",
       "3      2   326.52   347.39   302.35   298.13   317.74   312.70  322.33   \n",
       "4      2 -1107.21 -1112.59 -1118.95 -1095.10 -1057.55 -1034.48 -998.34   \n",
       "\n",
       "    FLUX.8  FLUX.9  ...  FLUX.3188  FLUX.3189  FLUX.3190  FLUX.3191  \\\n",
       "0   -96.27  -79.89  ...     -78.07    -102.15    -102.15      25.13   \n",
       "1   -85.33  -83.97  ...      -3.28     -32.21     -32.21     -24.89   \n",
       "2   486.39  436.56  ...     -71.69      13.31      13.31     -29.89   \n",
       "3   311.31  312.42  ...       5.71      -3.73      -3.73      30.05   \n",
       "4 -1022.71 -989.57  ...    -594.37    -401.66    -401.66    -357.24   \n",
       "\n",
       "   FLUX.3192  FLUX.3193  FLUX.3194  FLUX.3195  FLUX.3196  FLUX.3197  \n",
       "0      48.57      92.54      39.32      61.42       5.08     -39.54  \n",
       "1      -4.86       0.76     -11.70       6.46      16.00      19.93  \n",
       "2     -20.88       5.06     -11.80     -28.91     -70.02     -96.67  \n",
       "3      20.03     -12.67      -8.77     -17.31     -17.35      13.98  \n",
       "4    -443.76    -438.54    -399.71    -384.65    -411.79    -510.54  \n",
       "\n",
       "[5 rows x 3198 columns]"
      ]
     },
     "execution_count": 9,
     "metadata": {},
     "output_type": "execute_result"
    }
   ],
   "source": [
    "df.head()"
   ]
  },
  {
   "cell_type": "code",
   "execution_count": 10,
   "metadata": {},
   "outputs": [
    {
     "name": "stdout",
     "output_type": "stream",
     "text": [
      "<class 'pandas.core.frame.DataFrame'>\n",
      "RangeIndex: 400 entries, 0 to 399\n",
      "Columns: 3198 entries, LABEL to FLUX.3197\n",
      "dtypes: float64(3197), int64(1)\n",
      "memory usage: 9.8 MB\n"
     ]
    }
   ],
   "source": [
    "df.info()"
   ]
  },
  {
   "cell_type": "code",
   "execution_count": 11,
   "metadata": {},
   "outputs": [
    {
     "data": {
      "text/plain": [
       "False"
      ]
     },
     "execution_count": 11,
     "metadata": {},
     "output_type": "execute_result"
    }
   ],
   "source": [
    "# check nulls \n",
    "any(df.isnull().all())"
   ]
  },
  {
   "cell_type": "code",
   "execution_count": 12,
   "metadata": {},
   "outputs": [
    {
     "data": {
      "text/plain": [
       "1    363\n",
       "2     37\n",
       "Name: LABEL, dtype: int64"
      ]
     },
     "execution_count": 12,
     "metadata": {},
     "output_type": "execute_result"
    }
   ],
   "source": [
    "# Check data balance\n",
    "df['LABEL'].value_counts()"
   ]
  },
  {
   "cell_type": "code",
   "execution_count": 13,
   "metadata": {},
   "outputs": [
    {
     "data": {
      "text/html": [
       "<div>\n",
       "<style scoped>\n",
       "    .dataframe tbody tr th:only-of-type {\n",
       "        vertical-align: middle;\n",
       "    }\n",
       "\n",
       "    .dataframe tbody tr th {\n",
       "        vertical-align: top;\n",
       "    }\n",
       "\n",
       "    .dataframe thead th {\n",
       "        text-align: right;\n",
       "    }\n",
       "</style>\n",
       "<table border=\"1\" class=\"dataframe\">\n",
       "  <thead>\n",
       "    <tr style=\"text-align: right;\">\n",
       "      <th></th>\n",
       "      <th>LABEL</th>\n",
       "      <th>FLUX.1</th>\n",
       "      <th>FLUX.2</th>\n",
       "      <th>FLUX.3</th>\n",
       "      <th>FLUX.4</th>\n",
       "      <th>FLUX.5</th>\n",
       "      <th>FLUX.6</th>\n",
       "      <th>FLUX.7</th>\n",
       "      <th>FLUX.8</th>\n",
       "      <th>FLUX.9</th>\n",
       "      <th>...</th>\n",
       "      <th>FLUX.3188</th>\n",
       "      <th>FLUX.3189</th>\n",
       "      <th>FLUX.3190</th>\n",
       "      <th>FLUX.3191</th>\n",
       "      <th>FLUX.3192</th>\n",
       "      <th>FLUX.3193</th>\n",
       "      <th>FLUX.3194</th>\n",
       "      <th>FLUX.3195</th>\n",
       "      <th>FLUX.3196</th>\n",
       "      <th>FLUX.3197</th>\n",
       "    </tr>\n",
       "  </thead>\n",
       "  <tbody>\n",
       "    <tr>\n",
       "      <th>37</th>\n",
       "      <td>1</td>\n",
       "      <td>-141.22</td>\n",
       "      <td>-81.79</td>\n",
       "      <td>-52.28</td>\n",
       "      <td>-32.45</td>\n",
       "      <td>-1.55</td>\n",
       "      <td>-35.61</td>\n",
       "      <td>-23.28</td>\n",
       "      <td>19.45</td>\n",
       "      <td>53.11</td>\n",
       "      <td>...</td>\n",
       "      <td>-50.79</td>\n",
       "      <td>-22.34</td>\n",
       "      <td>-36.23</td>\n",
       "      <td>27.44</td>\n",
       "      <td>13.52</td>\n",
       "      <td>38.66</td>\n",
       "      <td>-17.53</td>\n",
       "      <td>31.49</td>\n",
       "      <td>31.38</td>\n",
       "      <td>50.03</td>\n",
       "    </tr>\n",
       "    <tr>\n",
       "      <th>38</th>\n",
       "      <td>1</td>\n",
       "      <td>-35.62</td>\n",
       "      <td>-28.55</td>\n",
       "      <td>-27.29</td>\n",
       "      <td>-28.94</td>\n",
       "      <td>-15.13</td>\n",
       "      <td>-51.06</td>\n",
       "      <td>2.67</td>\n",
       "      <td>-5.21</td>\n",
       "      <td>9.67</td>\n",
       "      <td>...</td>\n",
       "      <td>-43.98</td>\n",
       "      <td>-38.22</td>\n",
       "      <td>-46.23</td>\n",
       "      <td>-54.40</td>\n",
       "      <td>-23.51</td>\n",
       "      <td>-26.96</td>\n",
       "      <td>-3.95</td>\n",
       "      <td>-0.34</td>\n",
       "      <td>10.52</td>\n",
       "      <td>-7.69</td>\n",
       "    </tr>\n",
       "    <tr>\n",
       "      <th>39</th>\n",
       "      <td>1</td>\n",
       "      <td>142.40</td>\n",
       "      <td>137.03</td>\n",
       "      <td>93.65</td>\n",
       "      <td>105.64</td>\n",
       "      <td>98.22</td>\n",
       "      <td>99.06</td>\n",
       "      <td>86.40</td>\n",
       "      <td>60.78</td>\n",
       "      <td>45.18</td>\n",
       "      <td>...</td>\n",
       "      <td>-0.99</td>\n",
       "      <td>-3.03</td>\n",
       "      <td>-30.27</td>\n",
       "      <td>-24.22</td>\n",
       "      <td>-35.10</td>\n",
       "      <td>-39.64</td>\n",
       "      <td>23.78</td>\n",
       "      <td>23.40</td>\n",
       "      <td>-0.50</td>\n",
       "      <td>0.97</td>\n",
       "    </tr>\n",
       "    <tr>\n",
       "      <th>40</th>\n",
       "      <td>1</td>\n",
       "      <td>-167.02</td>\n",
       "      <td>-137.65</td>\n",
       "      <td>-150.05</td>\n",
       "      <td>-136.85</td>\n",
       "      <td>-98.73</td>\n",
       "      <td>-103.14</td>\n",
       "      <td>-107.70</td>\n",
       "      <td>-123.19</td>\n",
       "      <td>-125.65</td>\n",
       "      <td>...</td>\n",
       "      <td>-97.43</td>\n",
       "      <td>-79.79</td>\n",
       "      <td>-80.62</td>\n",
       "      <td>-78.22</td>\n",
       "      <td>-105.06</td>\n",
       "      <td>-69.67</td>\n",
       "      <td>-90.45</td>\n",
       "      <td>-73.67</td>\n",
       "      <td>-66.71</td>\n",
       "      <td>-66.07</td>\n",
       "    </tr>\n",
       "    <tr>\n",
       "      <th>41</th>\n",
       "      <td>1</td>\n",
       "      <td>207.74</td>\n",
       "      <td>223.60</td>\n",
       "      <td>246.15</td>\n",
       "      <td>224.06</td>\n",
       "      <td>210.77</td>\n",
       "      <td>189.56</td>\n",
       "      <td>172.68</td>\n",
       "      <td>170.31</td>\n",
       "      <td>148.79</td>\n",
       "      <td>...</td>\n",
       "      <td>-53.06</td>\n",
       "      <td>-136.92</td>\n",
       "      <td>-174.97</td>\n",
       "      <td>-180.46</td>\n",
       "      <td>-164.01</td>\n",
       "      <td>-126.58</td>\n",
       "      <td>84.05</td>\n",
       "      <td>63.81</td>\n",
       "      <td>108.36</td>\n",
       "      <td>78.10</td>\n",
       "    </tr>\n",
       "  </tbody>\n",
       "</table>\n",
       "<p>5 rows × 3198 columns</p>\n",
       "</div>"
      ],
      "text/plain": [
       "    LABEL  FLUX.1  FLUX.2  FLUX.3  FLUX.4  FLUX.5  FLUX.6  FLUX.7  FLUX.8  \\\n",
       "37      1 -141.22  -81.79  -52.28  -32.45   -1.55  -35.61  -23.28   19.45   \n",
       "38      1  -35.62  -28.55  -27.29  -28.94  -15.13  -51.06    2.67   -5.21   \n",
       "39      1  142.40  137.03   93.65  105.64   98.22   99.06   86.40   60.78   \n",
       "40      1 -167.02 -137.65 -150.05 -136.85  -98.73 -103.14 -107.70 -123.19   \n",
       "41      1  207.74  223.60  246.15  224.06  210.77  189.56  172.68  170.31   \n",
       "\n",
       "    FLUX.9  ...  FLUX.3188  FLUX.3189  FLUX.3190  FLUX.3191  FLUX.3192  \\\n",
       "37   53.11  ...     -50.79     -22.34     -36.23      27.44      13.52   \n",
       "38    9.67  ...     -43.98     -38.22     -46.23     -54.40     -23.51   \n",
       "39   45.18  ...      -0.99      -3.03     -30.27     -24.22     -35.10   \n",
       "40 -125.65  ...     -97.43     -79.79     -80.62     -78.22    -105.06   \n",
       "41  148.79  ...     -53.06    -136.92    -174.97    -180.46    -164.01   \n",
       "\n",
       "    FLUX.3193  FLUX.3194  FLUX.3195  FLUX.3196  FLUX.3197  \n",
       "37      38.66     -17.53      31.49      31.38      50.03  \n",
       "38     -26.96      -3.95      -0.34      10.52      -7.69  \n",
       "39     -39.64      23.78      23.40      -0.50       0.97  \n",
       "40     -69.67     -90.45     -73.67     -66.71     -66.07  \n",
       "41    -126.58      84.05      63.81     108.36      78.10  \n",
       "\n",
       "[5 rows x 3198 columns]"
      ]
     },
     "execution_count": 13,
     "metadata": {},
     "output_type": "execute_result"
    }
   ],
   "source": [
    "# list some of the records with label 1\n",
    "df[df['LABEL']==1].head()"
   ]
  },
  {
   "cell_type": "code",
   "execution_count": 15,
   "metadata": {},
   "outputs": [
    {
     "data": {
      "image/png": "[encoded data removed]",
      "text/plain": [
       "<Figure size 1080x576 with 1 Axes>"
      ]
     },
     "metadata": {},
     "output_type": "display_data"
    }
   ],
   "source": [
    "flux_plot(df, 0)"
   ]
  },
  {
   "cell_type": "code",
   "execution_count": 16,
   "metadata": {},
   "outputs": [
    {
     "data": {
      "image/png": "[encoded data removed]",
      "text/plain": [
       "<Figure size 1080x576 with 1 Axes>"
      ]
     },
     "metadata": {},
     "output_type": "display_data"
    }
   ],
   "source": [
    "flux_plot(df, 1)"
   ]
  },
  {
   "cell_type": "code",
   "execution_count": 17,
   "metadata": {},
   "outputs": [
    {
     "data": {
      "image/png": "[encoded data removed]",
      "text/plain": [
       "<Figure size 1080x576 with 1 Axes>"
      ]
     },
     "metadata": {},
     "output_type": "display_data"
    }
   ],
   "source": [
    "flux_plot(df, 37)"
   ]
  },
  {
   "cell_type": "code",
   "execution_count": 18,
   "metadata": {},
   "outputs": [
    {
     "data": {
      "image/png": "[encoded data removed]",
      "text/plain": [
       "<Figure size 1080x576 with 1 Axes>"
      ]
     },
     "metadata": {},
     "output_type": "display_data"
    }
   ],
   "source": [
    "flux_plot(df, 38)"
   ]
  },
  {
   "cell_type": "code",
   "execution_count": 14,
   "metadata": {},
   "outputs": [],
   "source": [
    "import random, os\n",
    "def seed_everything(seed=42):\n",
    "    random.seed(seed)\n",
    "    os.environ['PYTHONHASHSEED'] = str(seed)\n",
    "    np.random.seed(seed)"
   ]
  },
  {
   "cell_type": "code",
   "execution_count": 15,
   "metadata": {},
   "outputs": [],
   "source": [
    "seed_everything(42)"
   ]
  },
  {
   "cell_type": "markdown",
   "metadata": {},
   "source": [
    "## Split into train/test & get Baseline score"
   ]
  },
  {
   "cell_type": "code",
   "execution_count": 16,
   "metadata": {},
   "outputs": [],
   "source": [
    "df['LABEL'] = df['LABEL'].replace(1, 0)\n",
    "df['LABEL'] = df['LABEL'].replace(2, 1)"
   ]
  },
  {
   "cell_type": "code",
   "execution_count": 17,
   "metadata": {},
   "outputs": [
    {
     "data": {
      "text/plain": [
       "0    363\n",
       "1     37\n",
       "Name: LABEL, dtype: int64"
      ]
     },
     "execution_count": 17,
     "metadata": {},
     "output_type": "execute_result"
    }
   ],
   "source": [
    "df['LABEL'].value_counts()"
   ]
  },
  {
   "cell_type": "code",
   "execution_count": 18,
   "metadata": {},
   "outputs": [],
   "source": [
    "X = df.iloc[:, 1:]\n",
    "y = df.iloc[:, 0]"
   ]
  },
  {
   "cell_type": "code",
   "execution_count": 19,
   "metadata": {},
   "outputs": [],
   "source": [
    "# Split data into train and test sets\n",
    "X_train, X_test, y_train, y_test = train_test_split(X, y, random_state=42)"
   ]
  },
  {
   "cell_type": "code",
   "execution_count": 21,
   "metadata": {},
   "outputs": [
    {
     "name": "stdout",
     "output_type": "stream",
     "text": [
      "Score: 0.87\n"
     ]
    }
   ],
   "source": [
    "model = XGBClassifier(booster='gbtree', objective='binary:logistic', random_state=42)\n",
    "\n",
    "# Fit xg_reg to training set\n",
    "model.fit(X_train, y_train)\n",
    "\n",
    "# Predict labels of test set, y_pred\n",
    "y_pred = model.predict(X_test)\n",
    "\n",
    "score = accuracy_score(y_pred, y_test)\n",
    "\n",
    "print('Score: ' + str(score))"
   ]
  },
  {
   "cell_type": "code",
   "execution_count": 22,
   "metadata": {},
   "outputs": [
    {
     "name": "stdout",
     "output_type": "stream",
     "text": [
      "              precision    recall  f1-score   support\n",
      "\n",
      "           0       0.90      0.97      0.93        89\n",
      "           1       0.25      0.09      0.13        11\n",
      "\n",
      "    accuracy                           0.87       100\n",
      "   macro avg       0.57      0.53      0.53       100\n",
      "weighted avg       0.82      0.87      0.84       100\n",
      "\n"
     ]
    }
   ],
   "source": [
    "print(classification_report(y_test, y_pred))"
   ]
  },
  {
   "cell_type": "code",
   "execution_count": 23,
   "metadata": {},
   "outputs": [
    {
     "data": {
      "text/plain": [
       "array([[86,  3],\n",
       "       [10,  1]])"
      ]
     },
     "execution_count": 23,
     "metadata": {},
     "output_type": "execute_result"
    }
   ],
   "source": [
    "confusion_matrix(y_test, y_pred)"
   ]
  },
  {
   "cell_type": "code",
   "execution_count": 24,
   "metadata": {},
   "outputs": [
    {
     "data": {
      "text/plain": [
       "0.09090909090909091"
      ]
     },
     "execution_count": 24,
     "metadata": {},
     "output_type": "execute_result"
    }
   ],
   "source": [
    "recall_score(y_test, y_pred)\n",
    "#recall_score(y_test, y_pred, pos_label=2)"
   ]
  },
  {
   "cell_type": "code",
   "execution_count": 30,
   "metadata": {},
   "outputs": [
    {
     "data": {
      "text/plain": [
       "(pandas.core.series.Series, numpy.ndarray)"
      ]
     },
     "execution_count": 30,
     "metadata": {},
     "output_type": "execute_result"
    }
   ],
   "source": [
    "type(y_test), type(y_pred)"
   ]
  },
  {
   "cell_type": "code",
   "execution_count": 26,
   "metadata": {},
   "outputs": [],
   "source": [
    "majority_minority_weight = 363/37"
   ]
  },
  {
   "cell_type": "code",
   "execution_count": 27,
   "metadata": {},
   "outputs": [
    {
     "name": "stdout",
     "output_type": "stream",
     "text": [
      "Recall: [0.25       0.125      0.57142857 0.14285714 0.28571429] mean recall: 0.275\n"
     ]
    }
   ],
   "source": [
    "kfold = StratifiedKFold(n_splits=5, shuffle=True, random_state=42)\n",
    "model = XGBClassifier(scale_pos_weight=majority_minority_weight, random_state=42)\n",
    "scores = cross_val_score(model, X, y, cv=kfold, scoring='recall')\n",
    "print('Recall: {} mean recall: {}'.format(scores, scores.mean()))"
   ]
  },
  {
   "cell_type": "markdown",
   "metadata": {},
   "source": [
    "## Hyperparameter tuning"
   ]
  },
  {
   "cell_type": "code",
   "execution_count": 28,
   "metadata": {},
   "outputs": [],
   "source": [
    "def search_for_optimal_params(\n",
    "    X, y, params,\n",
    "    model=XGBClassifier(random_state=42, scale_pos_weight=majority_minority_weight), \n",
    "    random=False, random_state=42,\n",
    "    scorer='recall'):\n",
    "    \n",
    "    if random:\n",
    "        grid = RandomizedSearchCV(model, params, cv=kfold, random_state=random_state, scoring=scorer)\n",
    "    else:\n",
    "        grid = GridSearchCV(model, params, cv=kfold, scoring=scorer)\n",
    "    \n",
    "    grid.fit(X, y)\n",
    "    best_params = grid.best_params_\n",
    "    best_score = grid.best_score_\n",
    "    print('best params: {}\\n\\nbest score: {}'.format(best_params, best_score))"
   ]
  },
  {
   "cell_type": "code",
   "execution_count": null,
   "metadata": {},
   "outputs": [],
   "source": [
    "params = {\n",
    "    #'learning_rate':[0.01, 0.05, 0.1],\n",
    "    #'n_estimators': [50, 100, 150],\n",
    "    #'max_depth': [1, 2,4],\n",
    "    #'subsample': [0.3, 0.5, 0.7],\n",
    "    #'gamma': [0.02, 0.05, 0.1,0.5],\n",
    "    #'colsample_by_tree':[0.3, 0.5, 0.7, 0.9]\n",
    "}"
   ]
  },
  {
   "cell_type": "code",
   "execution_count": 29,
   "metadata": {},
   "outputs": [],
   "source": [
    "params = {\n",
    "    'learning_rate':[0.01, 0.001],\n",
    "    'n_estimators': [50, 150, 200],\n",
    "    'max_depth': [1,2],\n",
    "    'subsample': [0.3, 0.9],\n",
    "    'gamma': [0.02, 0.025],\n",
    "    'colsample_by_tree':[0.1, 0.7]  \n",
    "}"
   ]
  },
  {
   "cell_type": "markdown",
   "metadata": {},
   "source": [
    "## Trying out the various models"
   ]
  },
  {
   "cell_type": "code",
   "execution_count": 30,
   "metadata": {},
   "outputs": [],
   "source": [
    "train_df = pd.read_csv('/home/padmac/kaggle/exoplanets/exoTrain.csv')\n",
    "train_df['LABEL'] = train_df['LABEL'].replace(1, 0)\n",
    "train_df['LABEL'] = train_df['LABEL'].replace(2, 1)"
   ]
  },
  {
   "cell_type": "code",
   "execution_count": 31,
   "metadata": {},
   "outputs": [
    {
     "data": {
      "text/plain": [
       "0    5050\n",
       "1      37\n",
       "Name: LABEL, dtype: int64"
      ]
     },
     "execution_count": 31,
     "metadata": {},
     "output_type": "execute_result"
    }
   ],
   "source": [
    "train_df['LABEL'].value_counts()"
   ]
  },
  {
   "cell_type": "code",
   "execution_count": 32,
   "metadata": {},
   "outputs": [],
   "source": [
    "# shuffle the training data\n",
    "shuf_train_df = train_df.sample(frac=1)"
   ]
  },
  {
   "cell_type": "code",
   "execution_count": 33,
   "metadata": {},
   "outputs": [],
   "source": [
    "X_train = shuf_train_df.iloc[:,1:]\n",
    "y_train = shuf_train_df.iloc[:,0]"
   ]
  },
  {
   "cell_type": "code",
   "execution_count": 34,
   "metadata": {},
   "outputs": [],
   "source": [
    "test_df = pd.read_csv('/home/padmac/kaggle/exoplanets/exoTest.csv')\n",
    "test_df['LABEL'] = test_df['LABEL'].replace(1, 0)\n",
    "test_df['LABEL'] = test_df['LABEL'].replace(2, 1)"
   ]
  },
  {
   "cell_type": "code",
   "execution_count": 35,
   "metadata": {},
   "outputs": [],
   "source": [
    "X_test = test_df.iloc[:,1:]\n",
    "y_test = test_df.iloc[:,0]\n",
    "majority_minority_weight = 5050/37"
   ]
  },
  {
   "cell_type": "code",
   "execution_count": 36,
   "metadata": {},
   "outputs": [],
   "source": [
    "def final_model(X_train, y_train, X_test, y_test, model):\n",
    "    model.fit(X_train, y_train)\n",
    "    y_pred = model.predict(X_test)\n",
    "    rscore = recall_score(y_test, y_pred)\n",
    "    print(rscore)\n",
    "    print(confusion_matrix(y_test, y_pred))\n",
    "    print(classification_report(y_test, y_pred))\n",
    "    auc = roc_auc_score(y_test, y_pred)\n",
    "    print('auc: {}'.format(auc))\n",
    "    return rscore, auc"
   ]
  },
  {
   "cell_type": "code",
   "execution_count": 37,
   "metadata": {},
   "outputs": [
    {
     "data": {
      "text/plain": [
       "0    565\n",
       "1      5\n",
       "Name: LABEL, dtype: int64"
      ]
     },
     "execution_count": 37,
     "metadata": {},
     "output_type": "execute_result"
    }
   ],
   "source": [
    "y_test.value_counts()"
   ]
  },
  {
   "cell_type": "code",
   "execution_count": null,
   "metadata": {},
   "outputs": [],
   "source": [
    "# RandomForest with class weighting\n",
    "\n",
    "# changes the weight that each class has when calculating the \"impurity\" score of a chosen split point.\n",
    "# Impurity measures how mixed the groups of samples are for a given split in the training dataset;\n",
    "# this calculation can be forcibly biased so that a mixture in favor of the minority class is favored, \n",
    "# allowing some positives for the majority class.\n",
    "\n",
    "# RandomForestClassifier(n_estimators= ..., class_weight='balanced')"
   ]
  },
  {
   "cell_type": "code",
   "execution_count": null,
   "metadata": {},
   "outputs": [],
   "source": [
    "# Random Forest With Bootstrap Class Weighting\n",
    "\n",
    "# Given that each decision tree is constructed from a \n",
    "# bootstrap sample (e.g. random selection with replacement), \n",
    "# the class distribution in the data sample will be different for each tree.\n",
    "\n",
    "# So this changes the class weighting based on the class distribution in \n",
    "# each bootstrap sample, instead of the entire training dataset.\n",
    "\n",
    "#This can be achieved by setting the class_weight argument to the value ‘balanced_subsample‘.\n",
    "\n",
    "# RandomForestClassifier(n_estimators= ..., class_weight='balanced_subsample')"
   ]
  },
  {
   "cell_type": "code",
   "execution_count": 55,
   "metadata": {},
   "outputs": [],
   "source": [
    "from collections import defaultdict, Counter\n",
    "def get_models():\n",
    "    xgb_weighted = XGBClassifier(\n",
    "                        max_depth=1, \n",
    "                        n_estimators=50,\n",
    "                        learning_rate=0.001,\n",
    "                        gamma=0.02,\n",
    "                        colsample_by_tree=0.1,\n",
    "                        subsample=0.9,\n",
    "                        scale_pos_weight=majority_minority_weight, \n",
    "                        random_state=42)\n",
    "    \n",
    "    xgb = XGBClassifier(\n",
    "            max_depth=2, \n",
    "            n_estimators=50,\n",
    "            learning_rate=0.001,\n",
    "            gamma=0.02,\n",
    "            colsample_by_tree=0.1,\n",
    "            subsample=0.9,\n",
    "            random_state=42)\n",
    "    \n",
    "    # EasyEnsemble uses UNDERSAMPLING of majority class with AdaBoost\n",
    "    easy = EasyEnsembleClassifier(n_estimators=50, random_state=42)\n",
    "    \n",
    "    # This is using UNDERSAMPLING but XGBoost as the base estimator\n",
    "    easy_xgb = EasyEnsembleClassifier(base_estimator=xgb, n_estimators=50, random_state=42)\n",
    "    \n",
    "    # RandomForest with Bootstrap class weighting\n",
    "    rf_bal_subsample = RandomForestClassifier(n_estimators=50, class_weight='balanced_subsample')\n",
    "\n",
    "    # RandomForest with class weighting\n",
    "    rf_bal = RandomForestClassifier(n_estimators=50, class_weight='balanced', random_state=42)\n",
    "    \n",
    "    # BalancedRandomForest uses undersampling of majority class\n",
    "    bal_rf = BalancedRandomForestClassifier(n_estimators=50, random_state=42)\n",
    "    \n",
    "    models = {\n",
    "     'xgb_weight': xgb_weighted,   \n",
    "     'xgb_tuned': xgb,\n",
    "     'easy_plain': easy,\n",
    "     'easy_xgb': easy_xgb,\n",
    "     'smote_xgb': xgb,\n",
    "     'adasyn_xgb': xgb,\n",
    "     'rf_subsample': rf_bal_subsample,\n",
    "     'rf_bal': rf_bal,\n",
    "     'bal_rf':bal_rf,\n",
    "     \n",
    "    }\n",
    "    return models"
   ]
  },
  {
   "cell_type": "code",
   "execution_count": 70,
   "metadata": {},
   "outputs": [],
   "source": [
    "def compare_scores_from_all_models(models, mname, scores):\n",
    "    xtrain = X_train\n",
    "    ytrain = y_train\n",
    "    xtest = X_test\n",
    "    ytest = y_test\n",
    "    \n",
    "    model = models[mname]\n",
    "    print(type(model))\n",
    "    \n",
    "    print('=====Training Model: {}====='.format(mname))\n",
    "    if mname == 'adasyn_xgb':\n",
    "        X_resampled, y_resampled = ADASYN().fit_resample(X_train, y_train)\n",
    "        xtrain = X_resampled\n",
    "        ytrain = y_resampled\n",
    "        print('after ADASYN resampling: {}'.format(Counter(y_resampled)))\n",
    "    elif mname == 'smote_xgb':\n",
    "        X_resampled, y_resampled = SMOTE().fit_resample(X_train, y_train)\n",
    "        print('after SMOTE resampling: {}'.format(Counter(y_resampled)))\n",
    "        xtrain = X_resampled\n",
    "        ytrain = y_resampled\n",
    "        #recall = auc = 0\n",
    "    recall, auc = final_model(xtrain, ytrain, xtest, ytest, model)\n",
    "\n",
    "    scores['recall'].append(recall)\n",
    "    scores['auc'].append(auc)\n",
    "    scores['model_name'].append(mname)\n",
    "    "
   ]
  },
  {
   "cell_type": "code",
   "execution_count": 57,
   "metadata": {},
   "outputs": [],
   "source": [
    "scores = defaultdict(list)"
   ]
  },
  {
   "cell_type": "code",
   "execution_count": 62,
   "metadata": {},
   "outputs": [],
   "source": [
    "models = get_models()"
   ]
  },
  {
   "cell_type": "code",
   "execution_count": 71,
   "metadata": {},
   "outputs": [
    {
     "name": "stdout",
     "output_type": "stream",
     "text": [
      "<class 'xgboost.sklearn.XGBClassifier'>\n",
      "=====Training Model: xgb_weight=====\n",
      "0.2\n",
      "[[500  65]\n",
      " [  4   1]]\n",
      "              precision    recall  f1-score   support\n",
      "\n",
      "           0       0.99      0.88      0.94       565\n",
      "           1       0.02      0.20      0.03         5\n",
      "\n",
      "    accuracy                           0.88       570\n",
      "   macro avg       0.50      0.54      0.48       570\n",
      "weighted avg       0.98      0.88      0.93       570\n",
      "\n",
      "auc: 0.5424778761061947\n"
     ]
    }
   ],
   "source": [
    "compare_scores_from_all_models(models, 'xgb_weight', scores)"
   ]
  },
  {
   "cell_type": "code",
   "execution_count": 73,
   "metadata": {},
   "outputs": [
    {
     "name": "stdout",
     "output_type": "stream",
     "text": [
      "<class 'xgboost.sklearn.XGBClassifier'>\n",
      "=====Training Model: xgb_tuned=====\n",
      "0.0\n",
      "[[565   0]\n",
      " [  5   0]]\n",
      "              precision    recall  f1-score   support\n",
      "\n",
      "           0       0.99      1.00      1.00       565\n",
      "           1       0.00      0.00      0.00         5\n",
      "\n",
      "    accuracy                           0.99       570\n",
      "   macro avg       0.50      0.50      0.50       570\n",
      "weighted avg       0.98      0.99      0.99       570\n",
      "\n",
      "auc: 0.5\n"
     ]
    },
    {
     "name": "stderr",
     "output_type": "stream",
     "text": [
      "/home/padmac/anaconda3/envs/nltk/lib/python3.7/site-packages/sklearn/metrics/_classification.py:1221: UndefinedMetricWarning: Precision and F-score are ill-defined and being set to 0.0 in labels with no predicted samples. Use `zero_division` parameter to control this behavior.\n",
      "  _warn_prf(average, modifier, msg_start, len(result))\n"
     ]
    }
   ],
   "source": [
    "compare_scores_from_all_models(models, 'xgb_tuned', scores)"
   ]
  },
  {
   "cell_type": "code",
   "execution_count": 74,
   "metadata": {},
   "outputs": [
    {
     "name": "stdout",
     "output_type": "stream",
     "text": [
      "<class 'imblearn.ensemble._easy_ensemble.EasyEnsembleClassifier'>\n",
      "=====Training Model: easy_plain=====\n",
      "0.8\n",
      "[[378 187]\n",
      " [  1   4]]\n",
      "              precision    recall  f1-score   support\n",
      "\n",
      "           0       1.00      0.67      0.80       565\n",
      "           1       0.02      0.80      0.04         5\n",
      "\n",
      "    accuracy                           0.67       570\n",
      "   macro avg       0.51      0.73      0.42       570\n",
      "weighted avg       0.99      0.67      0.79       570\n",
      "\n",
      "auc: 0.7345132743362832\n"
     ]
    }
   ],
   "source": [
    "compare_scores_from_all_models(models, 'easy_plain', scores)"
   ]
  },
  {
   "cell_type": "code",
   "execution_count": 75,
   "metadata": {},
   "outputs": [
    {
     "name": "stdout",
     "output_type": "stream",
     "text": [
      "<class 'imblearn.ensemble._easy_ensemble.EasyEnsembleClassifier'>\n",
      "=====Training Model: easy_xgb=====\n",
      "0.8\n",
      "[[421 144]\n",
      " [  1   4]]\n",
      "              precision    recall  f1-score   support\n",
      "\n",
      "           0       1.00      0.75      0.85       565\n",
      "           1       0.03      0.80      0.05         5\n",
      "\n",
      "    accuracy                           0.75       570\n",
      "   macro avg       0.51      0.77      0.45       570\n",
      "weighted avg       0.99      0.75      0.85       570\n",
      "\n",
      "auc: 0.772566371681416\n"
     ]
    }
   ],
   "source": [
    "compare_scores_from_all_models(models, 'easy_xgb', scores)"
   ]
  },
  {
   "cell_type": "code",
   "execution_count": 76,
   "metadata": {},
   "outputs": [
    {
     "name": "stdout",
     "output_type": "stream",
     "text": [
      "<class 'xgboost.sklearn.XGBClassifier'>\n",
      "=====Training Model: smote_xgb=====\n",
      "after SMOTE resampling: Counter({0: 5050, 1: 5050})\n",
      "0.4\n",
      "[[435 130]\n",
      " [  3   2]]\n",
      "              precision    recall  f1-score   support\n",
      "\n",
      "           0       0.99      0.77      0.87       565\n",
      "           1       0.02      0.40      0.03         5\n",
      "\n",
      "    accuracy                           0.77       570\n",
      "   macro avg       0.50      0.58      0.45       570\n",
      "weighted avg       0.98      0.77      0.86       570\n",
      "\n",
      "auc: 0.5849557522123894\n"
     ]
    }
   ],
   "source": [
    "compare_scores_from_all_models(models, 'smote_xgb', scores)"
   ]
  },
  {
   "cell_type": "code",
   "execution_count": 77,
   "metadata": {},
   "outputs": [
    {
     "name": "stdout",
     "output_type": "stream",
     "text": [
      "<class 'xgboost.sklearn.XGBClassifier'>\n",
      "=====Training Model: adasyn_xgb=====\n",
      "after ADASYN resampling: Counter({0: 5050, 1: 5037})\n",
      "0.4\n",
      "[[434 131]\n",
      " [  3   2]]\n",
      "              precision    recall  f1-score   support\n",
      "\n",
      "           0       0.99      0.77      0.87       565\n",
      "           1       0.02      0.40      0.03         5\n",
      "\n",
      "    accuracy                           0.76       570\n",
      "   macro avg       0.50      0.58      0.45       570\n",
      "weighted avg       0.98      0.76      0.86       570\n",
      "\n",
      "auc: 0.5840707964601769\n"
     ]
    }
   ],
   "source": [
    "compare_scores_from_all_models(models, 'adasyn_xgb', scores)"
   ]
  },
  {
   "cell_type": "code",
   "execution_count": 78,
   "metadata": {},
   "outputs": [
    {
     "name": "stdout",
     "output_type": "stream",
     "text": [
      "<class 'sklearn.ensemble._forest.RandomForestClassifier'>\n",
      "=====Training Model: rf_subsample=====\n",
      "0.0\n",
      "[[565   0]\n",
      " [  5   0]]\n",
      "              precision    recall  f1-score   support\n",
      "\n",
      "           0       0.99      1.00      1.00       565\n",
      "           1       0.00      0.00      0.00         5\n",
      "\n",
      "    accuracy                           0.99       570\n",
      "   macro avg       0.50      0.50      0.50       570\n",
      "weighted avg       0.98      0.99      0.99       570\n",
      "\n",
      "auc: 0.5\n"
     ]
    },
    {
     "name": "stderr",
     "output_type": "stream",
     "text": [
      "/home/padmac/anaconda3/envs/nltk/lib/python3.7/site-packages/sklearn/metrics/_classification.py:1221: UndefinedMetricWarning: Precision and F-score are ill-defined and being set to 0.0 in labels with no predicted samples. Use `zero_division` parameter to control this behavior.\n",
      "  _warn_prf(average, modifier, msg_start, len(result))\n"
     ]
    }
   ],
   "source": [
    "compare_scores_from_all_models(models, 'rf_subsample', scores)"
   ]
  },
  {
   "cell_type": "code",
   "execution_count": 79,
   "metadata": {},
   "outputs": [
    {
     "name": "stdout",
     "output_type": "stream",
     "text": [
      "<class 'sklearn.ensemble._forest.RandomForestClassifier'>\n",
      "=====Training Model: rf_bal=====\n",
      "0.0\n",
      "[[565   0]\n",
      " [  5   0]]\n",
      "              precision    recall  f1-score   support\n",
      "\n",
      "           0       0.99      1.00      1.00       565\n",
      "           1       0.00      0.00      0.00         5\n",
      "\n",
      "    accuracy                           0.99       570\n",
      "   macro avg       0.50      0.50      0.50       570\n",
      "weighted avg       0.98      0.99      0.99       570\n",
      "\n",
      "auc: 0.5\n"
     ]
    },
    {
     "name": "stderr",
     "output_type": "stream",
     "text": [
      "/home/padmac/anaconda3/envs/nltk/lib/python3.7/site-packages/sklearn/metrics/_classification.py:1221: UndefinedMetricWarning: Precision and F-score are ill-defined and being set to 0.0 in labels with no predicted samples. Use `zero_division` parameter to control this behavior.\n",
      "  _warn_prf(average, modifier, msg_start, len(result))\n"
     ]
    }
   ],
   "source": [
    "compare_scores_from_all_models(models, 'rf_bal', scores)"
   ]
  },
  {
   "cell_type": "code",
   "execution_count": 56,
   "metadata": {},
   "outputs": [
    {
     "name": "stdout",
     "output_type": "stream",
     "text": [
      "=====Training Model: xgb_weight=====\n",
      "0.2\n",
      "[[500  65]\n",
      " [  4   1]]\n",
      "              precision    recall  f1-score   support\n",
      "\n",
      "           0       0.99      0.88      0.94       565\n",
      "           1       0.02      0.20      0.03         5\n",
      "\n",
      "    accuracy                           0.88       570\n",
      "   macro avg       0.50      0.54      0.48       570\n",
      "weighted avg       0.98      0.88      0.93       570\n",
      "\n",
      "auc: 0.5424778761061947\n",
      "=====Training Model: xgb_tuned=====\n",
      "0.0\n",
      "[[565   0]\n",
      " [  5   0]]\n",
      "              precision    recall  f1-score   support\n",
      "\n",
      "           0       0.99      1.00      1.00       565\n",
      "           1       0.00      0.00      0.00         5\n",
      "\n",
      "    accuracy                           0.99       570\n",
      "   macro avg       0.50      0.50      0.50       570\n",
      "weighted avg       0.98      0.99      0.99       570\n",
      "\n",
      "auc: 0.5\n",
      "=====Training Model: easy_plain=====\n"
     ]
    },
    {
     "name": "stderr",
     "output_type": "stream",
     "text": [
      "/home/padmac/anaconda3/envs/nltk/lib/python3.7/site-packages/sklearn/metrics/_classification.py:1221: UndefinedMetricWarning: Precision and F-score are ill-defined and being set to 0.0 in labels with no predicted samples. Use `zero_division` parameter to control this behavior.\n",
      "  _warn_prf(average, modifier, msg_start, len(result))\n"
     ]
    },
    {
     "name": "stdout",
     "output_type": "stream",
     "text": [
      "0.8\n",
      "[[395 170]\n",
      " [  1   4]]\n",
      "              precision    recall  f1-score   support\n",
      "\n",
      "           0       1.00      0.70      0.82       565\n",
      "           1       0.02      0.80      0.04         5\n",
      "\n",
      "    accuracy                           0.70       570\n",
      "   macro avg       0.51      0.75      0.43       570\n",
      "weighted avg       0.99      0.70      0.82       570\n",
      "\n",
      "auc: 0.7495575221238938\n",
      "=====Training Model: easy_xgb=====\n",
      "0.8\n",
      "[[417 148]\n",
      " [  1   4]]\n",
      "              precision    recall  f1-score   support\n",
      "\n",
      "           0       1.00      0.74      0.85       565\n",
      "           1       0.03      0.80      0.05         5\n",
      "\n",
      "    accuracy                           0.74       570\n",
      "   macro avg       0.51      0.77      0.45       570\n",
      "weighted avg       0.99      0.74      0.84       570\n",
      "\n",
      "auc: 0.7690265486725664\n",
      "=====Training Model: smote_xgb=====\n",
      "after SMOTE resampling: Counter({0: 5050, 1: 5050})\n",
      "0.0\n",
      "[[565   0]\n",
      " [  5   0]]\n",
      "              precision    recall  f1-score   support\n",
      "\n",
      "           0       0.99      1.00      1.00       565\n",
      "           1       0.00      0.00      0.00         5\n",
      "\n",
      "    accuracy                           0.99       570\n",
      "   macro avg       0.50      0.50      0.50       570\n",
      "weighted avg       0.98      0.99      0.99       570\n",
      "\n",
      "auc: 0.5\n",
      "=====Training Model: adasyn_xgb=====\n"
     ]
    },
    {
     "name": "stderr",
     "output_type": "stream",
     "text": [
      "/home/padmac/anaconda3/envs/nltk/lib/python3.7/site-packages/sklearn/metrics/_classification.py:1221: UndefinedMetricWarning: Precision and F-score are ill-defined and being set to 0.0 in labels with no predicted samples. Use `zero_division` parameter to control this behavior.\n",
      "  _warn_prf(average, modifier, msg_start, len(result))\n"
     ]
    },
    {
     "name": "stdout",
     "output_type": "stream",
     "text": [
      "after ADASYN resampling: Counter({0: 5050, 1: 5037})\n",
      "0.4\n",
      "[[454 111]\n",
      " [  3   2]]\n",
      "              precision    recall  f1-score   support\n",
      "\n",
      "           0       0.99      0.80      0.89       565\n",
      "           1       0.02      0.40      0.03         5\n",
      "\n",
      "    accuracy                           0.80       570\n",
      "   macro avg       0.51      0.60      0.46       570\n",
      "weighted avg       0.98      0.80      0.88       570\n",
      "\n",
      "auc: 0.6017699115044247\n",
      "=====Training Model: rf_subsample=====\n",
      "0.0\n",
      "[[565   0]\n",
      " [  5   0]]\n",
      "              precision    recall  f1-score   support\n",
      "\n",
      "           0       0.99      1.00      1.00       565\n",
      "           1       0.00      0.00      0.00         5\n",
      "\n",
      "    accuracy                           0.99       570\n",
      "   macro avg       0.50      0.50      0.50       570\n",
      "weighted avg       0.98      0.99      0.99       570\n",
      "\n",
      "auc: 0.5\n",
      "=====Training Model: rf_bal=====\n"
     ]
    },
    {
     "name": "stderr",
     "output_type": "stream",
     "text": [
      "/home/padmac/anaconda3/envs/nltk/lib/python3.7/site-packages/sklearn/metrics/_classification.py:1221: UndefinedMetricWarning: Precision and F-score are ill-defined and being set to 0.0 in labels with no predicted samples. Use `zero_division` parameter to control this behavior.\n",
      "  _warn_prf(average, modifier, msg_start, len(result))\n"
     ]
    },
    {
     "name": "stdout",
     "output_type": "stream",
     "text": [
      "0.0\n",
      "[[565   0]\n",
      " [  5   0]]\n",
      "              precision    recall  f1-score   support\n",
      "\n",
      "           0       0.99      1.00      1.00       565\n",
      "           1       0.00      0.00      0.00         5\n",
      "\n",
      "    accuracy                           0.99       570\n",
      "   macro avg       0.50      0.50      0.50       570\n",
      "weighted avg       0.98      0.99      0.99       570\n",
      "\n",
      "auc: 0.5\n",
      "=====Training Model: bal_rf=====\n"
     ]
    },
    {
     "name": "stderr",
     "output_type": "stream",
     "text": [
      "/home/padmac/anaconda3/envs/nltk/lib/python3.7/site-packages/sklearn/metrics/_classification.py:1221: UndefinedMetricWarning: Precision and F-score are ill-defined and being set to 0.0 in labels with no predicted samples. Use `zero_division` parameter to control this behavior.\n",
      "  _warn_prf(average, modifier, msg_start, len(result))\n"
     ]
    },
    {
     "name": "stdout",
     "output_type": "stream",
     "text": [
      "0.0\n",
      "[[565   0]\n",
      " [  5   0]]\n",
      "              precision    recall  f1-score   support\n",
      "\n",
      "           0       0.99      1.00      1.00       565\n",
      "           1       0.00      0.00      0.00         5\n",
      "\n",
      "    accuracy                           0.99       570\n",
      "   macro avg       0.50      0.50      0.50       570\n",
      "weighted avg       0.98      0.99      0.99       570\n",
      "\n",
      "auc: 0.5\n"
     ]
    },
    {
     "name": "stderr",
     "output_type": "stream",
     "text": [
      "/home/padmac/anaconda3/envs/nltk/lib/python3.7/site-packages/sklearn/metrics/_classification.py:1221: UndefinedMetricWarning: Precision and F-score are ill-defined and being set to 0.0 in labels with no predicted samples. Use `zero_division` parameter to control this behavior.\n",
      "  _warn_prf(average, modifier, msg_start, len(result))\n"
     ]
    }
   ],
   "source": [
    "sdict = compare_scores_from_all_models()"
   ]
  },
  {
   "cell_type": "code",
   "execution_count": 80,
   "metadata": {},
   "outputs": [
    {
     "name": "stdout",
     "output_type": "stream",
     "text": [
      "<class 'imblearn.ensemble._forest.BalancedRandomForestClassifier'>\n",
      "=====Training Model: bal_rf=====\n",
      "0.8\n",
      "[[352 213]\n",
      " [  1   4]]\n",
      "              precision    recall  f1-score   support\n",
      "\n",
      "           0       1.00      0.62      0.77       565\n",
      "           1       0.02      0.80      0.04         5\n",
      "\n",
      "    accuracy                           0.62       570\n",
      "   macro avg       0.51      0.71      0.40       570\n",
      "weighted avg       0.99      0.62      0.76       570\n",
      "\n",
      "auc: 0.7115044247787612\n"
     ]
    }
   ],
   "source": [
    "compare_scores_from_all_models(models, 'bal_rf', scores)"
   ]
  },
  {
   "cell_type": "code",
   "execution_count": 81,
   "metadata": {},
   "outputs": [],
   "source": [
    "model_scores = pd.DataFrame.from_dict(scores)"
   ]
  },
  {
   "cell_type": "code",
   "execution_count": 82,
   "metadata": {},
   "outputs": [
    {
     "data": {
      "text/html": [
       "<div>\n",
       "<style scoped>\n",
       "    .dataframe tbody tr th:only-of-type {\n",
       "        vertical-align: middle;\n",
       "    }\n",
       "\n",
       "    .dataframe tbody tr th {\n",
       "        vertical-align: top;\n",
       "    }\n",
       "\n",
       "    .dataframe thead th {\n",
       "        text-align: right;\n",
       "    }\n",
       "</style>\n",
       "<table border=\"1\" class=\"dataframe\">\n",
       "  <thead>\n",
       "    <tr style=\"text-align: right;\">\n",
       "      <th></th>\n",
       "      <th>recall</th>\n",
       "      <th>auc</th>\n",
       "      <th>model_name</th>\n",
       "    </tr>\n",
       "  </thead>\n",
       "  <tbody>\n",
       "    <tr>\n",
       "      <th>0</th>\n",
       "      <td>0.2</td>\n",
       "      <td>0.542478</td>\n",
       "      <td>xgb_weight</td>\n",
       "    </tr>\n",
       "    <tr>\n",
       "      <th>1</th>\n",
       "      <td>0.0</td>\n",
       "      <td>0.500000</td>\n",
       "      <td>xgb_tuned</td>\n",
       "    </tr>\n",
       "    <tr>\n",
       "      <th>2</th>\n",
       "      <td>0.8</td>\n",
       "      <td>0.734513</td>\n",
       "      <td>easy_plain</td>\n",
       "    </tr>\n",
       "    <tr>\n",
       "      <th>3</th>\n",
       "      <td>0.8</td>\n",
       "      <td>0.772566</td>\n",
       "      <td>easy_xgb</td>\n",
       "    </tr>\n",
       "    <tr>\n",
       "      <th>4</th>\n",
       "      <td>0.4</td>\n",
       "      <td>0.584956</td>\n",
       "      <td>smote_xgb</td>\n",
       "    </tr>\n",
       "    <tr>\n",
       "      <th>5</th>\n",
       "      <td>0.4</td>\n",
       "      <td>0.584071</td>\n",
       "      <td>adasyn_xgb</td>\n",
       "    </tr>\n",
       "    <tr>\n",
       "      <th>6</th>\n",
       "      <td>0.0</td>\n",
       "      <td>0.500000</td>\n",
       "      <td>rf_subsample</td>\n",
       "    </tr>\n",
       "    <tr>\n",
       "      <th>7</th>\n",
       "      <td>0.0</td>\n",
       "      <td>0.500000</td>\n",
       "      <td>rf_bal</td>\n",
       "    </tr>\n",
       "    <tr>\n",
       "      <th>8</th>\n",
       "      <td>0.8</td>\n",
       "      <td>0.711504</td>\n",
       "      <td>bal_rf</td>\n",
       "    </tr>\n",
       "  </tbody>\n",
       "</table>\n",
       "</div>"
      ],
      "text/plain": [
       "   recall       auc    model_name\n",
       "0     0.2  0.542478    xgb_weight\n",
       "1     0.0  0.500000     xgb_tuned\n",
       "2     0.8  0.734513    easy_plain\n",
       "3     0.8  0.772566      easy_xgb\n",
       "4     0.4  0.584956     smote_xgb\n",
       "5     0.4  0.584071    adasyn_xgb\n",
       "6     0.0  0.500000  rf_subsample\n",
       "7     0.0  0.500000        rf_bal\n",
       "8     0.8  0.711504        bal_rf"
      ]
     },
     "execution_count": 82,
     "metadata": {},
     "output_type": "execute_result"
    }
   ],
   "source": [
    "model_scores"
   ]
  },
  {
   "cell_type": "code",
   "execution_count": 86,
   "metadata": {},
   "outputs": [],
   "source": [
    "model_scores.sort_values(by=['recall', 'auc'], ascending=[False, False], inplace=True)"
   ]
  },
  {
   "cell_type": "code",
   "execution_count": 87,
   "metadata": {},
   "outputs": [
    {
     "data": {
      "text/html": [
       "<div>\n",
       "<style scoped>\n",
       "    .dataframe tbody tr th:only-of-type {\n",
       "        vertical-align: middle;\n",
       "    }\n",
       "\n",
       "    .dataframe tbody tr th {\n",
       "        vertical-align: top;\n",
       "    }\n",
       "\n",
       "    .dataframe thead th {\n",
       "        text-align: right;\n",
       "    }\n",
       "</style>\n",
       "<table border=\"1\" class=\"dataframe\">\n",
       "  <thead>\n",
       "    <tr style=\"text-align: right;\">\n",
       "      <th></th>\n",
       "      <th>recall</th>\n",
       "      <th>auc</th>\n",
       "      <th>model_name</th>\n",
       "    </tr>\n",
       "  </thead>\n",
       "  <tbody>\n",
       "    <tr>\n",
       "      <th>3</th>\n",
       "      <td>0.8</td>\n",
       "      <td>0.772566</td>\n",
       "      <td>easy_xgb</td>\n",
       "    </tr>\n",
       "    <tr>\n",
       "      <th>2</th>\n",
       "      <td>0.8</td>\n",
       "      <td>0.734513</td>\n",
       "      <td>easy_plain</td>\n",
       "    </tr>\n",
       "    <tr>\n",
       "      <th>8</th>\n",
       "      <td>0.8</td>\n",
       "      <td>0.711504</td>\n",
       "      <td>bal_rf</td>\n",
       "    </tr>\n",
       "    <tr>\n",
       "      <th>4</th>\n",
       "      <td>0.4</td>\n",
       "      <td>0.584956</td>\n",
       "      <td>smote_xgb</td>\n",
       "    </tr>\n",
       "    <tr>\n",
       "      <th>5</th>\n",
       "      <td>0.4</td>\n",
       "      <td>0.584071</td>\n",
       "      <td>adasyn_xgb</td>\n",
       "    </tr>\n",
       "    <tr>\n",
       "      <th>0</th>\n",
       "      <td>0.2</td>\n",
       "      <td>0.542478</td>\n",
       "      <td>xgb_weight</td>\n",
       "    </tr>\n",
       "    <tr>\n",
       "      <th>1</th>\n",
       "      <td>0.0</td>\n",
       "      <td>0.500000</td>\n",
       "      <td>xgb_tuned</td>\n",
       "    </tr>\n",
       "    <tr>\n",
       "      <th>6</th>\n",
       "      <td>0.0</td>\n",
       "      <td>0.500000</td>\n",
       "      <td>rf_subsample</td>\n",
       "    </tr>\n",
       "    <tr>\n",
       "      <th>7</th>\n",
       "      <td>0.0</td>\n",
       "      <td>0.500000</td>\n",
       "      <td>rf_bal</td>\n",
       "    </tr>\n",
       "  </tbody>\n",
       "</table>\n",
       "</div>"
      ],
      "text/plain": [
       "   recall       auc    model_name\n",
       "3     0.8  0.772566      easy_xgb\n",
       "2     0.8  0.734513    easy_plain\n",
       "8     0.8  0.711504        bal_rf\n",
       "4     0.4  0.584956     smote_xgb\n",
       "5     0.4  0.584071    adasyn_xgb\n",
       "0     0.2  0.542478    xgb_weight\n",
       "1     0.0  0.500000     xgb_tuned\n",
       "6     0.0  0.500000  rf_subsample\n",
       "7     0.0  0.500000        rf_bal"
      ]
     },
     "execution_count": 87,
     "metadata": {},
     "output_type": "execute_result"
    }
   ],
   "source": [
    "model_scores"
   ]
  },
  {
   "cell_type": "code",
   "execution_count": 88,
   "metadata": {
    "scrolled": true
   },
   "outputs": [
    {
     "data": {
      "text/plain": [
       "(array([0, 1, 2, 3, 4, 5, 6, 7, 8]),\n",
       " [Text(0, 0, 'easy_xgb'),\n",
       "  Text(1, 0, 'easy_plain'),\n",
       "  Text(2, 0, 'bal_rf'),\n",
       "  Text(3, 0, 'smote_xgb'),\n",
       "  Text(4, 0, 'adasyn_xgb'),\n",
       "  Text(5, 0, 'xgb_weight'),\n",
       "  Text(6, 0, 'xgb_tuned'),\n",
       "  Text(7, 0, 'rf_subsample'),\n",
       "  Text(8, 0, 'rf_bal')])"
      ]
     },
     "execution_count": 88,
     "metadata": {},
     "output_type": "execute_result"
    },
    {
     "data": {
      "image/png": "[encoded data removed]",
      "text/plain": [
       "<Figure size 360x360 with 1 Axes>"
      ]
     },
     "metadata": {},
     "output_type": "display_data"
    }
   ],
   "source": [
    "plt.figure(figsize=(5, 5))\n",
    "sns.barplot(x=model_scores.model_name, y=\"recall\", data=model_scores)\n",
    "plt.xticks(rotation=90)"
   ]
  },
  {
   "cell_type": "raw",
   "metadata": {},
   "source": [
    "*The EasyEnsembleClassifier (with 'XGBoostClassifier' as base estimator) gave the best recall score + auc;\n",
    "Similar recall scores of 0.8 but with slightly less auc were seen when using the:\n",
    "  *EasyEnsembleClassifier (default) and \n",
    "  *the BalancedRandomForestClassifier\n",
    "  \n",
    "*SMOTE & ADASYN sampling didn't give any advantage; ADASYN sampling was better than SMOTE for the given data."
   ]
  }
 ],
 "metadata": {
  "kernelspec": {
   "display_name": "(Python 3.7 (nltk)",
   "language": "python",
   "name": "nltk"
  },
  "language_info": {
   "codemirror_mode": {
    "name": "ipython",
    "version": 3
   },
   "file_extension": ".py",
   "mimetype": "text/x-python",
   "name": "python",
   "nbconvert_exporter": "python",
   "pygments_lexer": "ipython3",
   "version": "3.7.9"
  }
 },
 "nbformat": 4,
 "nbformat_minor": 4
}
